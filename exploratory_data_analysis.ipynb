{
 "cells": [
  {
   "cell_type": "code",
   "execution_count": 1,
   "id": "af56ec2e",
   "metadata": {},
   "outputs": [],
   "source": [
    "import pandas as pd\n",
    "import numpy as np\n",
    "import seaborn as sns\n",
    "import datetime as dt\n",
    "import matplotlib.pyplot as plt\n",
    "from sklearn.cluster import KMeans\n",
    "import warnings\n",
    "warnings.filterwarnings(\"ignore\")"
   ]
  },
  {
   "cell_type": "code",
   "execution_count": 2,
   "id": "f815c59f",
   "metadata": {},
   "outputs": [
    {
     "data": {
      "text/html": [
       "<div>\n",
       "<style scoped>\n",
       "    .dataframe tbody tr th:only-of-type {\n",
       "        vertical-align: middle;\n",
       "    }\n",
       "\n",
       "    .dataframe tbody tr th {\n",
       "        vertical-align: top;\n",
       "    }\n",
       "\n",
       "    .dataframe thead th {\n",
       "        text-align: right;\n",
       "    }\n",
       "</style>\n",
       "<table border=\"1\" class=\"dataframe\">\n",
       "  <thead>\n",
       "    <tr style=\"text-align: right;\">\n",
       "      <th></th>\n",
       "      <th>REGISTRATION_DATE</th>\n",
       "      <th>REGISTRATION_COUNTRY</th>\n",
       "      <th>PURCHASE_COUNT</th>\n",
       "      <th>PURCHASE_COUNT_DELIVERY</th>\n",
       "      <th>PURCHASE_COUNT_TAKEAWAY</th>\n",
       "      <th>FIRST_PURCHASE_DAY</th>\n",
       "      <th>LAST_PURCHASE_DAY</th>\n",
       "      <th>USER_ID</th>\n",
       "      <th>BREAKFAST_PURCHASES</th>\n",
       "      <th>LUNCH_PURCHASES</th>\n",
       "      <th>...</th>\n",
       "      <th>WEB_PURCHASES</th>\n",
       "      <th>ANDROID_PURCHASES</th>\n",
       "      <th>PREFERRED_RESTAURANT_TYPES</th>\n",
       "      <th>USER_HAS_VALID_PAYMENT_METHOD</th>\n",
       "      <th>MOST_COMMON_HOUR_OF_THE_DAY_TO_PURCHASE</th>\n",
       "      <th>MOST_COMMON_WEEKDAY_TO_PURCHASE</th>\n",
       "      <th>AVG_DAYS_BETWEEN_PURCHASES</th>\n",
       "      <th>MEDIAN_DAYS_BETWEEN_PURCHASES</th>\n",
       "      <th>AVERAGE_DELIVERY_DISTANCE_KMS</th>\n",
       "      <th>PURCHASE_COUNT_BY_STORE_TYPE</th>\n",
       "    </tr>\n",
       "  </thead>\n",
       "  <tbody>\n",
       "    <tr>\n",
       "      <th>0</th>\n",
       "      <td>2019-09-01 00:00:00.000</td>\n",
       "      <td>DNK</td>\n",
       "      <td>0</td>\n",
       "      <td>NaN</td>\n",
       "      <td>NaN</td>\n",
       "      <td>NaN</td>\n",
       "      <td>NaN</td>\n",
       "      <td>1</td>\n",
       "      <td>NaN</td>\n",
       "      <td>NaN</td>\n",
       "      <td>...</td>\n",
       "      <td>NaN</td>\n",
       "      <td>NaN</td>\n",
       "      <td>NaN</td>\n",
       "      <td>False</td>\n",
       "      <td>NaN</td>\n",
       "      <td>NaN</td>\n",
       "      <td>NaN</td>\n",
       "      <td>NaN</td>\n",
       "      <td>NaN</td>\n",
       "      <td>{\\n  \"General merchandise\": 0,\\n  \"Grocery\": 0...</td>\n",
       "    </tr>\n",
       "    <tr>\n",
       "      <th>1</th>\n",
       "      <td>2019-09-01 00:00:00.000</td>\n",
       "      <td>FIN</td>\n",
       "      <td>1</td>\n",
       "      <td>1.0</td>\n",
       "      <td>0.0</td>\n",
       "      <td>2020-09-02 00:00:00.000</td>\n",
       "      <td>2020-09-02 00:00:00.000</td>\n",
       "      <td>2</td>\n",
       "      <td>0.0</td>\n",
       "      <td>1.0</td>\n",
       "      <td>...</td>\n",
       "      <td>0.0</td>\n",
       "      <td>1.0</td>\n",
       "      <td>NaN</td>\n",
       "      <td>False</td>\n",
       "      <td>23.0</td>\n",
       "      <td>2.0</td>\n",
       "      <td>NaN</td>\n",
       "      <td>NaN</td>\n",
       "      <td>6.853</td>\n",
       "      <td>{\\n  \"General merchandise\": 0,\\n  \"Grocery\": 0...</td>\n",
       "    </tr>\n",
       "    <tr>\n",
       "      <th>2</th>\n",
       "      <td>2019-09-01 00:00:00.000</td>\n",
       "      <td>DNK</td>\n",
       "      <td>19</td>\n",
       "      <td>19.0</td>\n",
       "      <td>0.0</td>\n",
       "      <td>2019-12-10 00:00:00.000</td>\n",
       "      <td>2020-05-25 00:00:00.000</td>\n",
       "      <td>3</td>\n",
       "      <td>0.0</td>\n",
       "      <td>4.0</td>\n",
       "      <td>...</td>\n",
       "      <td>19.0</td>\n",
       "      <td>0.0</td>\n",
       "      <td>NaN</td>\n",
       "      <td>True</td>\n",
       "      <td>21.0</td>\n",
       "      <td>2.0</td>\n",
       "      <td>9.0</td>\n",
       "      <td>3.0</td>\n",
       "      <td>6.559</td>\n",
       "      <td>{\\n  \"General merchandise\": 1,\\n  \"Grocery\": 9...</td>\n",
       "    </tr>\n",
       "    <tr>\n",
       "      <th>3</th>\n",
       "      <td>2019-09-01 00:00:00.000</td>\n",
       "      <td>FIN</td>\n",
       "      <td>0</td>\n",
       "      <td>NaN</td>\n",
       "      <td>NaN</td>\n",
       "      <td>NaN</td>\n",
       "      <td>NaN</td>\n",
       "      <td>4</td>\n",
       "      <td>NaN</td>\n",
       "      <td>NaN</td>\n",
       "      <td>...</td>\n",
       "      <td>NaN</td>\n",
       "      <td>NaN</td>\n",
       "      <td>NaN</td>\n",
       "      <td>False</td>\n",
       "      <td>NaN</td>\n",
       "      <td>NaN</td>\n",
       "      <td>NaN</td>\n",
       "      <td>NaN</td>\n",
       "      <td>NaN</td>\n",
       "      <td>{\\n  \"General merchandise\": 0,\\n  \"Grocery\": 0...</td>\n",
       "    </tr>\n",
       "    <tr>\n",
       "      <th>4</th>\n",
       "      <td>2019-09-01 00:00:00.000</td>\n",
       "      <td>GRC</td>\n",
       "      <td>0</td>\n",
       "      <td>NaN</td>\n",
       "      <td>NaN</td>\n",
       "      <td>NaN</td>\n",
       "      <td>NaN</td>\n",
       "      <td>5</td>\n",
       "      <td>NaN</td>\n",
       "      <td>NaN</td>\n",
       "      <td>...</td>\n",
       "      <td>NaN</td>\n",
       "      <td>NaN</td>\n",
       "      <td>NaN</td>\n",
       "      <td>False</td>\n",
       "      <td>NaN</td>\n",
       "      <td>NaN</td>\n",
       "      <td>NaN</td>\n",
       "      <td>NaN</td>\n",
       "      <td>NaN</td>\n",
       "      <td>{\\n  \"General merchandise\": 0,\\n  \"Grocery\": 0...</td>\n",
       "    </tr>\n",
       "  </tbody>\n",
       "</table>\n",
       "<p>5 rows × 30 columns</p>\n",
       "</div>"
      ],
      "text/plain": [
       "         REGISTRATION_DATE REGISTRATION_COUNTRY  PURCHASE_COUNT  \\\n",
       "0  2019-09-01 00:00:00.000                  DNK               0   \n",
       "1  2019-09-01 00:00:00.000                  FIN               1   \n",
       "2  2019-09-01 00:00:00.000                  DNK              19   \n",
       "3  2019-09-01 00:00:00.000                  FIN               0   \n",
       "4  2019-09-01 00:00:00.000                  GRC               0   \n",
       "\n",
       "   PURCHASE_COUNT_DELIVERY  PURCHASE_COUNT_TAKEAWAY       FIRST_PURCHASE_DAY  \\\n",
       "0                      NaN                      NaN                      NaN   \n",
       "1                      1.0                      0.0  2020-09-02 00:00:00.000   \n",
       "2                     19.0                      0.0  2019-12-10 00:00:00.000   \n",
       "3                      NaN                      NaN                      NaN   \n",
       "4                      NaN                      NaN                      NaN   \n",
       "\n",
       "         LAST_PURCHASE_DAY  USER_ID  BREAKFAST_PURCHASES  LUNCH_PURCHASES  \\\n",
       "0                      NaN        1                  NaN              NaN   \n",
       "1  2020-09-02 00:00:00.000        2                  0.0              1.0   \n",
       "2  2020-05-25 00:00:00.000        3                  0.0              4.0   \n",
       "3                      NaN        4                  NaN              NaN   \n",
       "4                      NaN        5                  NaN              NaN   \n",
       "\n",
       "   ...  WEB_PURCHASES  ANDROID_PURCHASES  PREFERRED_RESTAURANT_TYPES  \\\n",
       "0  ...            NaN                NaN                         NaN   \n",
       "1  ...            0.0                1.0                         NaN   \n",
       "2  ...           19.0                0.0                         NaN   \n",
       "3  ...            NaN                NaN                         NaN   \n",
       "4  ...            NaN                NaN                         NaN   \n",
       "\n",
       "   USER_HAS_VALID_PAYMENT_METHOD  MOST_COMMON_HOUR_OF_THE_DAY_TO_PURCHASE  \\\n",
       "0                          False                                      NaN   \n",
       "1                          False                                     23.0   \n",
       "2                           True                                     21.0   \n",
       "3                          False                                      NaN   \n",
       "4                          False                                      NaN   \n",
       "\n",
       "   MOST_COMMON_WEEKDAY_TO_PURCHASE  AVG_DAYS_BETWEEN_PURCHASES  \\\n",
       "0                              NaN                         NaN   \n",
       "1                              2.0                         NaN   \n",
       "2                              2.0                         9.0   \n",
       "3                              NaN                         NaN   \n",
       "4                              NaN                         NaN   \n",
       "\n",
       "   MEDIAN_DAYS_BETWEEN_PURCHASES AVERAGE_DELIVERY_DISTANCE_KMS  \\\n",
       "0                            NaN                           NaN   \n",
       "1                            NaN                         6.853   \n",
       "2                            3.0                         6.559   \n",
       "3                            NaN                           NaN   \n",
       "4                            NaN                           NaN   \n",
       "\n",
       "                        PURCHASE_COUNT_BY_STORE_TYPE  \n",
       "0  {\\n  \"General merchandise\": 0,\\n  \"Grocery\": 0...  \n",
       "1  {\\n  \"General merchandise\": 0,\\n  \"Grocery\": 0...  \n",
       "2  {\\n  \"General merchandise\": 1,\\n  \"Grocery\": 9...  \n",
       "3  {\\n  \"General merchandise\": 0,\\n  \"Grocery\": 0...  \n",
       "4  {\\n  \"General merchandise\": 0,\\n  \"Grocery\": 0...  \n",
       "\n",
       "[5 rows x 30 columns]"
      ]
     },
     "execution_count": 2,
     "metadata": {},
     "output_type": "execute_result"
    }
   ],
   "source": [
    "df = pd.read_csv('dataset_for_analyst_assignment_20201120.csv')\n",
    "df.head()"
   ]
  },
  {
   "cell_type": "code",
   "execution_count": 3,
   "id": "312d66ac",
   "metadata": {},
   "outputs": [
    {
     "name": "stdout",
     "output_type": "stream",
     "text": [
      "The data has 21983 rows and 30 columns\n"
     ]
    }
   ],
   "source": [
    "print ('The data has {0} rows and {1} columns'.format(df.shape[0],df.shape[1]))"
   ]
  },
  {
   "cell_type": "code",
   "execution_count": 4,
   "id": "6c5e46e5",
   "metadata": {},
   "outputs": [
    {
     "data": {
      "text/plain": [
       "Index(['PURCHASE_COUNT_DELIVERY', 'PURCHASE_COUNT_TAKEAWAY',\n",
       "       'FIRST_PURCHASE_DAY', 'LAST_PURCHASE_DAY', 'BREAKFAST_PURCHASES',\n",
       "       'LUNCH_PURCHASES', 'EVENING_PURCHASES', 'DINNER_PURCHASES',\n",
       "       'LATE_NIGHT_PURCHASES', 'TOTAL_PURCHASES_EUR',\n",
       "       'DISTINCT_PURCHASE_VENUE_COUNT', 'MIN_PURCHASE_VALUE_EUR',\n",
       "       'MAX_PURCHASE_VALUE_EUR', 'AVG_PURCHASE_VALUE_EUR', 'PREFERRED_DEVICE',\n",
       "       'IOS_PURCHASES', 'WEB_PURCHASES', 'ANDROID_PURCHASES',\n",
       "       'PREFERRED_RESTAURANT_TYPES', 'MOST_COMMON_HOUR_OF_THE_DAY_TO_PURCHASE',\n",
       "       'MOST_COMMON_WEEKDAY_TO_PURCHASE', 'AVG_DAYS_BETWEEN_PURCHASES',\n",
       "       'MEDIAN_DAYS_BETWEEN_PURCHASES', 'AVERAGE_DELIVERY_DISTANCE_KMS'],\n",
       "      dtype='object')"
      ]
     },
     "execution_count": 4,
     "metadata": {},
     "output_type": "execute_result"
    }
   ],
   "source": [
    "## check missing values\n",
    "df.columns[df.isnull().any()]"
   ]
  },
  {
   "cell_type": "code",
   "execution_count": 5,
   "id": "679853dd",
   "metadata": {},
   "outputs": [
    {
     "name": "stdout",
     "output_type": "stream",
     "text": [
      "<class 'pandas.core.frame.DataFrame'>\n",
      "RangeIndex: 21983 entries, 0 to 21982\n",
      "Data columns (total 30 columns):\n",
      " #   Column                                   Non-Null Count  Dtype  \n",
      "---  ------                                   --------------  -----  \n",
      " 0   REGISTRATION_DATE                        21983 non-null  object \n",
      " 1   REGISTRATION_COUNTRY                     21983 non-null  object \n",
      " 2   PURCHASE_COUNT                           21983 non-null  int64  \n",
      " 3   PURCHASE_COUNT_DELIVERY                  21983 non-null  float64\n",
      " 4   PURCHASE_COUNT_TAKEAWAY                  21983 non-null  float64\n",
      " 5   FIRST_PURCHASE_DAY                       11964 non-null  object \n",
      " 6   LAST_PURCHASE_DAY                        12027 non-null  object \n",
      " 7   USER_ID                                  21983 non-null  int64  \n",
      " 8   BREAKFAST_PURCHASES                      21983 non-null  float64\n",
      " 9   LUNCH_PURCHASES                          21983 non-null  float64\n",
      " 10  EVENING_PURCHASES                        21983 non-null  float64\n",
      " 11  DINNER_PURCHASES                         21983 non-null  float64\n",
      " 12  LATE_NIGHT_PURCHASES                     21983 non-null  float64\n",
      " 13  TOTAL_PURCHASES_EUR                      21983 non-null  float64\n",
      " 14  DISTINCT_PURCHASE_VENUE_COUNT            21983 non-null  float64\n",
      " 15  MIN_PURCHASE_VALUE_EUR                   21983 non-null  float64\n",
      " 16  MAX_PURCHASE_VALUE_EUR                   21983 non-null  float64\n",
      " 17  AVG_PURCHASE_VALUE_EUR                   21983 non-null  float64\n",
      " 18  PREFERRED_DEVICE                         21910 non-null  object \n",
      " 19  IOS_PURCHASES                            12028 non-null  float64\n",
      " 20  WEB_PURCHASES                            12028 non-null  float64\n",
      " 21  ANDROID_PURCHASES                        12028 non-null  float64\n",
      " 22  PREFERRED_RESTAURANT_TYPES               2694 non-null   object \n",
      " 23  USER_HAS_VALID_PAYMENT_METHOD            21983 non-null  bool   \n",
      " 24  MOST_COMMON_HOUR_OF_THE_DAY_TO_PURCHASE  12028 non-null  float64\n",
      " 25  MOST_COMMON_WEEKDAY_TO_PURCHASE          12028 non-null  float64\n",
      " 26  AVG_DAYS_BETWEEN_PURCHASES               7832 non-null   float64\n",
      " 27  MEDIAN_DAYS_BETWEEN_PURCHASES            7832 non-null   float64\n",
      " 28  AVERAGE_DELIVERY_DISTANCE_KMS            12028 non-null  float64\n",
      " 29  PURCHASE_COUNT_BY_STORE_TYPE             21983 non-null  object \n",
      "dtypes: bool(1), float64(20), int64(2), object(7)\n",
      "memory usage: 4.9+ MB\n"
     ]
    }
   ],
   "source": [
    "df[['PURCHASE_COUNT_DELIVERY','PURCHASE_COUNT_TAKEAWAY','BREAKFAST_PURCHASES','LUNCH_PURCHASES','EVENING_PURCHASES','DINNER_PURCHASES','LATE_NIGHT_PURCHASES','TOTAL_PURCHASES_EUR','DISTINCT_PURCHASE_VENUE_COUNT','MIN_PURCHASE_VALUE_EUR','MAX_PURCHASE_VALUE_EUR','AVG_PURCHASE_VALUE_EUR']]=df[['PURCHASE_COUNT_DELIVERY','PURCHASE_COUNT_TAKEAWAY','BREAKFAST_PURCHASES','LUNCH_PURCHASES','EVENING_PURCHASES','DINNER_PURCHASES','LATE_NIGHT_PURCHASES','TOTAL_PURCHASES_EUR','DISTINCT_PURCHASE_VENUE_COUNT','MIN_PURCHASE_VALUE_EUR','MAX_PURCHASE_VALUE_EUR','AVG_PURCHASE_VALUE_EUR']].fillna(0)\n",
    "df.info()"
   ]
  },
  {
   "cell_type": "code",
   "execution_count": 6,
   "id": "65541863",
   "metadata": {},
   "outputs": [
    {
     "name": "stdout",
     "output_type": "stream",
     "text": [
      "Duplicate Rows: 0\n"
     ]
    }
   ],
   "source": [
    "# Selecting duplicate rows except first \n",
    "# occurrence based on all columns\n",
    "duplicate = df[df.duplicated()]\n",
    "print(\"Duplicate Rows:\", duplicate.shape[0])"
   ]
  },
  {
   "cell_type": "code",
   "execution_count": 7,
   "id": "26026774",
   "metadata": {},
   "outputs": [],
   "source": [
    "df['MOST_COMMON_HOUR_OF_THE_DAY_TO_PURCHASE'] = df['MOST_COMMON_HOUR_OF_THE_DAY_TO_PURCHASE'].astype('object')\n",
    "df['MOST_COMMON_WEEKDAY_TO_PURCHASE'] = df['MOST_COMMON_WEEKDAY_TO_PURCHASE'].astype('object')"
   ]
  },
  {
   "cell_type": "code",
   "execution_count": 8,
   "id": "bc536e94",
   "metadata": {},
   "outputs": [
    {
     "data": {
      "text/html": [
       "<div>\n",
       "<style scoped>\n",
       "    .dataframe tbody tr th:only-of-type {\n",
       "        vertical-align: middle;\n",
       "    }\n",
       "\n",
       "    .dataframe tbody tr th {\n",
       "        vertical-align: top;\n",
       "    }\n",
       "\n",
       "    .dataframe thead th {\n",
       "        text-align: right;\n",
       "    }\n",
       "</style>\n",
       "<table border=\"1\" class=\"dataframe\">\n",
       "  <thead>\n",
       "    <tr style=\"text-align: right;\">\n",
       "      <th></th>\n",
       "      <th>REGISTRATION_DATE</th>\n",
       "      <th>REGISTRATION_COUNTRY</th>\n",
       "      <th>PURCHASE_COUNT</th>\n",
       "      <th>PURCHASE_COUNT_DELIVERY</th>\n",
       "      <th>PURCHASE_COUNT_TAKEAWAY</th>\n",
       "      <th>FIRST_PURCHASE_DAY</th>\n",
       "      <th>LAST_PURCHASE_DAY</th>\n",
       "      <th>USER_ID</th>\n",
       "      <th>BREAKFAST_PURCHASES</th>\n",
       "      <th>LUNCH_PURCHASES</th>\n",
       "      <th>...</th>\n",
       "      <th>WEB_PURCHASES</th>\n",
       "      <th>ANDROID_PURCHASES</th>\n",
       "      <th>PREFERRED_RESTAURANT_TYPES</th>\n",
       "      <th>USER_HAS_VALID_PAYMENT_METHOD</th>\n",
       "      <th>MOST_COMMON_HOUR_OF_THE_DAY_TO_PURCHASE</th>\n",
       "      <th>MOST_COMMON_WEEKDAY_TO_PURCHASE</th>\n",
       "      <th>AVG_DAYS_BETWEEN_PURCHASES</th>\n",
       "      <th>MEDIAN_DAYS_BETWEEN_PURCHASES</th>\n",
       "      <th>AVERAGE_DELIVERY_DISTANCE_KMS</th>\n",
       "      <th>PURCHASE_COUNT_BY_STORE_TYPE</th>\n",
       "    </tr>\n",
       "  </thead>\n",
       "  <tbody>\n",
       "    <tr>\n",
       "      <th>20978</th>\n",
       "      <td>2019-09-29 00:00:00.000</td>\n",
       "      <td>FIN</td>\n",
       "      <td>1</td>\n",
       "      <td>1.0</td>\n",
       "      <td>0.0</td>\n",
       "      <td>NaN</td>\n",
       "      <td>NaN</td>\n",
       "      <td>20979</td>\n",
       "      <td>0.0</td>\n",
       "      <td>1.0</td>\n",
       "      <td>...</td>\n",
       "      <td>0.0</td>\n",
       "      <td>0.0</td>\n",
       "      <td>NaN</td>\n",
       "      <td>False</td>\n",
       "      <td>3.0</td>\n",
       "      <td>6.0</td>\n",
       "      <td>NaN</td>\n",
       "      <td>NaN</td>\n",
       "      <td>5.087</td>\n",
       "      <td>{\\n  \"General merchandise\": 0,\\n  \"Grocery\": 0...</td>\n",
       "    </tr>\n",
       "  </tbody>\n",
       "</table>\n",
       "<p>1 rows × 30 columns</p>\n",
       "</div>"
      ],
      "text/plain": [
       "             REGISTRATION_DATE REGISTRATION_COUNTRY  PURCHASE_COUNT  \\\n",
       "20978  2019-09-29 00:00:00.000                  FIN               1   \n",
       "\n",
       "       PURCHASE_COUNT_DELIVERY  PURCHASE_COUNT_TAKEAWAY FIRST_PURCHASE_DAY  \\\n",
       "20978                      1.0                      0.0                NaN   \n",
       "\n",
       "      LAST_PURCHASE_DAY  USER_ID  BREAKFAST_PURCHASES  LUNCH_PURCHASES  ...  \\\n",
       "20978               NaN    20979                  0.0              1.0  ...   \n",
       "\n",
       "       WEB_PURCHASES  ANDROID_PURCHASES  PREFERRED_RESTAURANT_TYPES  \\\n",
       "20978            0.0                0.0                         NaN   \n",
       "\n",
       "       USER_HAS_VALID_PAYMENT_METHOD  MOST_COMMON_HOUR_OF_THE_DAY_TO_PURCHASE  \\\n",
       "20978                          False                                      3.0   \n",
       "\n",
       "       MOST_COMMON_WEEKDAY_TO_PURCHASE  AVG_DAYS_BETWEEN_PURCHASES  \\\n",
       "20978                              6.0                         NaN   \n",
       "\n",
       "       MEDIAN_DAYS_BETWEEN_PURCHASES AVERAGE_DELIVERY_DISTANCE_KMS  \\\n",
       "20978                            NaN                         5.087   \n",
       "\n",
       "                            PURCHASE_COUNT_BY_STORE_TYPE  \n",
       "20978  {\\n  \"General merchandise\": 0,\\n  \"Grocery\": 0...  \n",
       "\n",
       "[1 rows x 30 columns]"
      ]
     },
     "execution_count": 8,
     "metadata": {},
     "output_type": "execute_result"
    }
   ],
   "source": [
    "df[(df['PURCHASE_COUNT'] > 0) & df['LAST_PURCHASE_DAY'].isnull()]"
   ]
  },
  {
   "cell_type": "code",
   "execution_count": 9,
   "id": "fdda8068",
   "metadata": {},
   "outputs": [],
   "source": [
    "df = df[df['USER_ID'] != 20979]\n",
    "df['PURCHASE_COUNT_BY_STORE_TYPE'] = df['PURCHASE_COUNT_BY_STORE_TYPE'].map(lambda x: dict(eval(x)))\n",
    "df[['General merchandise','Grocery','Pet supplies','Restaurant','Retail store']]= df['PURCHASE_COUNT_BY_STORE_TYPE'].apply(pd.Series)"
   ]
  },
  {
   "cell_type": "code",
   "execution_count": 10,
   "id": "6ebdca62",
   "metadata": {},
   "outputs": [
    {
     "name": "stdout",
     "output_type": "stream",
     "text": [
      "There are 24 numeric and 5 categorical columns in train data\n"
     ]
    }
   ],
   "source": [
    "## separate variables into new data frames\n",
    "numeric_data = df.select_dtypes(include=[np.number])\n",
    "cat_data = df.select_dtypes(exclude=[np.number])\n",
    "\n",
    "del numeric_data['USER_ID']  \n",
    "del cat_data['PURCHASE_COUNT_BY_STORE_TYPE']\n",
    "del cat_data['FIRST_PURCHASE_DAY']\n",
    "del cat_data['LAST_PURCHASE_DAY']\n",
    "del cat_data['PREFERRED_RESTAURANT_TYPES']\n",
    "del cat_data['REGISTRATION_DATE']\n",
    "\n",
    "print (\"There are {} numeric and {} categorical columns in train data\".format(numeric_data.shape[1],cat_data.shape[1]))"
   ]
  },
  {
   "cell_type": "code",
   "execution_count": 11,
   "id": "b4af436e",
   "metadata": {},
   "outputs": [
    {
     "data": {
      "text/html": [
       "<div>\n",
       "<style scoped>\n",
       "    .dataframe tbody tr th:only-of-type {\n",
       "        vertical-align: middle;\n",
       "    }\n",
       "\n",
       "    .dataframe tbody tr th {\n",
       "        vertical-align: top;\n",
       "    }\n",
       "\n",
       "    .dataframe thead th {\n",
       "        text-align: right;\n",
       "    }\n",
       "</style>\n",
       "<table border=\"1\" class=\"dataframe\">\n",
       "  <thead>\n",
       "    <tr style=\"text-align: right;\">\n",
       "      <th></th>\n",
       "      <th>count</th>\n",
       "      <th>mean</th>\n",
       "      <th>std</th>\n",
       "      <th>min</th>\n",
       "      <th>25%</th>\n",
       "      <th>50%</th>\n",
       "      <th>75%</th>\n",
       "      <th>max</th>\n",
       "    </tr>\n",
       "  </thead>\n",
       "  <tbody>\n",
       "    <tr>\n",
       "      <th>PURCHASE_COUNT</th>\n",
       "      <td>21982.0</td>\n",
       "      <td>3.345464</td>\n",
       "      <td>8.523350</td>\n",
       "      <td>0.000</td>\n",
       "      <td>0.00</td>\n",
       "      <td>1.000</td>\n",
       "      <td>3.000</td>\n",
       "      <td>320.000</td>\n",
       "    </tr>\n",
       "    <tr>\n",
       "      <th>PURCHASE_COUNT_DELIVERY</th>\n",
       "      <td>21982.0</td>\n",
       "      <td>3.141661</td>\n",
       "      <td>8.301183</td>\n",
       "      <td>0.000</td>\n",
       "      <td>0.00</td>\n",
       "      <td>1.000</td>\n",
       "      <td>3.000</td>\n",
       "      <td>320.000</td>\n",
       "    </tr>\n",
       "    <tr>\n",
       "      <th>PURCHASE_COUNT_TAKEAWAY</th>\n",
       "      <td>21982.0</td>\n",
       "      <td>0.203803</td>\n",
       "      <td>1.063922</td>\n",
       "      <td>0.000</td>\n",
       "      <td>0.00</td>\n",
       "      <td>0.000</td>\n",
       "      <td>0.000</td>\n",
       "      <td>44.000</td>\n",
       "    </tr>\n",
       "    <tr>\n",
       "      <th>BREAKFAST_PURCHASES</th>\n",
       "      <td>21982.0</td>\n",
       "      <td>0.106132</td>\n",
       "      <td>0.822365</td>\n",
       "      <td>0.000</td>\n",
       "      <td>0.00</td>\n",
       "      <td>0.000</td>\n",
       "      <td>0.000</td>\n",
       "      <td>52.000</td>\n",
       "    </tr>\n",
       "    <tr>\n",
       "      <th>LUNCH_PURCHASES</th>\n",
       "      <td>21982.0</td>\n",
       "      <td>1.299518</td>\n",
       "      <td>4.326355</td>\n",
       "      <td>0.000</td>\n",
       "      <td>0.00</td>\n",
       "      <td>0.000</td>\n",
       "      <td>1.000</td>\n",
       "      <td>171.000</td>\n",
       "    </tr>\n",
       "    <tr>\n",
       "      <th>EVENING_PURCHASES</th>\n",
       "      <td>21982.0</td>\n",
       "      <td>0.269994</td>\n",
       "      <td>1.374086</td>\n",
       "      <td>0.000</td>\n",
       "      <td>0.00</td>\n",
       "      <td>0.000</td>\n",
       "      <td>0.000</td>\n",
       "      <td>71.000</td>\n",
       "    </tr>\n",
       "    <tr>\n",
       "      <th>DINNER_PURCHASES</th>\n",
       "      <td>21982.0</td>\n",
       "      <td>1.657402</td>\n",
       "      <td>4.157727</td>\n",
       "      <td>0.000</td>\n",
       "      <td>0.00</td>\n",
       "      <td>0.000</td>\n",
       "      <td>1.000</td>\n",
       "      <td>104.000</td>\n",
       "    </tr>\n",
       "    <tr>\n",
       "      <th>LATE_NIGHT_PURCHASES</th>\n",
       "      <td>21982.0</td>\n",
       "      <td>0.000000</td>\n",
       "      <td>0.000000</td>\n",
       "      <td>0.000</td>\n",
       "      <td>0.00</td>\n",
       "      <td>0.000</td>\n",
       "      <td>0.000</td>\n",
       "      <td>0.000</td>\n",
       "    </tr>\n",
       "    <tr>\n",
       "      <th>TOTAL_PURCHASES_EUR</th>\n",
       "      <td>21982.0</td>\n",
       "      <td>96.416180</td>\n",
       "      <td>237.988780</td>\n",
       "      <td>0.000</td>\n",
       "      <td>0.00</td>\n",
       "      <td>16.192</td>\n",
       "      <td>87.791</td>\n",
       "      <td>7979.620</td>\n",
       "    </tr>\n",
       "    <tr>\n",
       "      <th>DISTINCT_PURCHASE_VENUE_COUNT</th>\n",
       "      <td>21982.0</td>\n",
       "      <td>1.816395</td>\n",
       "      <td>3.239236</td>\n",
       "      <td>0.000</td>\n",
       "      <td>0.00</td>\n",
       "      <td>1.000</td>\n",
       "      <td>2.000</td>\n",
       "      <td>71.000</td>\n",
       "    </tr>\n",
       "    <tr>\n",
       "      <th>MIN_PURCHASE_VALUE_EUR</th>\n",
       "      <td>21982.0</td>\n",
       "      <td>13.364808</td>\n",
       "      <td>18.536403</td>\n",
       "      <td>0.000</td>\n",
       "      <td>0.00</td>\n",
       "      <td>8.112</td>\n",
       "      <td>21.294</td>\n",
       "      <td>659.100</td>\n",
       "    </tr>\n",
       "    <tr>\n",
       "      <th>MAX_PURCHASE_VALUE_EUR</th>\n",
       "      <td>21982.0</td>\n",
       "      <td>23.016823</td>\n",
       "      <td>36.962339</td>\n",
       "      <td>0.000</td>\n",
       "      <td>0.00</td>\n",
       "      <td>14.224</td>\n",
       "      <td>37.592</td>\n",
       "      <td>3048.000</td>\n",
       "    </tr>\n",
       "    <tr>\n",
       "      <th>AVG_PURCHASE_VALUE_EUR</th>\n",
       "      <td>21982.0</td>\n",
       "      <td>17.067406</td>\n",
       "      <td>21.816180</td>\n",
       "      <td>0.000</td>\n",
       "      <td>0.00</td>\n",
       "      <td>12.144</td>\n",
       "      <td>29.348</td>\n",
       "      <td>657.800</td>\n",
       "    </tr>\n",
       "    <tr>\n",
       "      <th>IOS_PURCHASES</th>\n",
       "      <td>12027.0</td>\n",
       "      <td>2.900640</td>\n",
       "      <td>7.456578</td>\n",
       "      <td>0.000</td>\n",
       "      <td>0.00</td>\n",
       "      <td>0.000</td>\n",
       "      <td>2.000</td>\n",
       "      <td>200.000</td>\n",
       "    </tr>\n",
       "    <tr>\n",
       "      <th>WEB_PURCHASES</th>\n",
       "      <td>12027.0</td>\n",
       "      <td>1.056623</td>\n",
       "      <td>4.776620</td>\n",
       "      <td>0.000</td>\n",
       "      <td>0.00</td>\n",
       "      <td>0.000</td>\n",
       "      <td>1.000</td>\n",
       "      <td>196.000</td>\n",
       "    </tr>\n",
       "    <tr>\n",
       "      <th>ANDROID_PURCHASES</th>\n",
       "      <td>12027.0</td>\n",
       "      <td>2.157313</td>\n",
       "      <td>6.876572</td>\n",
       "      <td>0.000</td>\n",
       "      <td>0.00</td>\n",
       "      <td>0.000</td>\n",
       "      <td>1.000</td>\n",
       "      <td>221.000</td>\n",
       "    </tr>\n",
       "    <tr>\n",
       "      <th>AVG_DAYS_BETWEEN_PURCHASES</th>\n",
       "      <td>7832.0</td>\n",
       "      <td>64.293539</td>\n",
       "      <td>72.570103</td>\n",
       "      <td>0.000</td>\n",
       "      <td>18.00</td>\n",
       "      <td>39.500</td>\n",
       "      <td>81.000</td>\n",
       "      <td>421.000</td>\n",
       "    </tr>\n",
       "    <tr>\n",
       "      <th>MEDIAN_DAYS_BETWEEN_PURCHASES</th>\n",
       "      <td>7832.0</td>\n",
       "      <td>55.792135</td>\n",
       "      <td>74.963336</td>\n",
       "      <td>0.000</td>\n",
       "      <td>10.00</td>\n",
       "      <td>25.000</td>\n",
       "      <td>68.250</td>\n",
       "      <td>421.000</td>\n",
       "    </tr>\n",
       "    <tr>\n",
       "      <th>AVERAGE_DELIVERY_DISTANCE_KMS</th>\n",
       "      <td>12027.0</td>\n",
       "      <td>5.961290</td>\n",
       "      <td>3.466398</td>\n",
       "      <td>0.002</td>\n",
       "      <td>2.95</td>\n",
       "      <td>5.930</td>\n",
       "      <td>8.978</td>\n",
       "      <td>11.999</td>\n",
       "    </tr>\n",
       "    <tr>\n",
       "      <th>General merchandise</th>\n",
       "      <td>21982.0</td>\n",
       "      <td>0.065599</td>\n",
       "      <td>0.247586</td>\n",
       "      <td>0.000</td>\n",
       "      <td>0.00</td>\n",
       "      <td>0.000</td>\n",
       "      <td>0.000</td>\n",
       "      <td>1.000</td>\n",
       "    </tr>\n",
       "    <tr>\n",
       "      <th>Grocery</th>\n",
       "      <td>21982.0</td>\n",
       "      <td>0.578064</td>\n",
       "      <td>2.959929</td>\n",
       "      <td>0.000</td>\n",
       "      <td>0.00</td>\n",
       "      <td>0.000</td>\n",
       "      <td>0.000</td>\n",
       "      <td>110.000</td>\n",
       "    </tr>\n",
       "    <tr>\n",
       "      <th>Pet supplies</th>\n",
       "      <td>21982.0</td>\n",
       "      <td>0.007961</td>\n",
       "      <td>0.088871</td>\n",
       "      <td>0.000</td>\n",
       "      <td>0.00</td>\n",
       "      <td>0.000</td>\n",
       "      <td>0.000</td>\n",
       "      <td>1.000</td>\n",
       "    </tr>\n",
       "    <tr>\n",
       "      <th>Restaurant</th>\n",
       "      <td>21982.0</td>\n",
       "      <td>2.033073</td>\n",
       "      <td>4.232791</td>\n",
       "      <td>0.000</td>\n",
       "      <td>0.00</td>\n",
       "      <td>1.000</td>\n",
       "      <td>3.000</td>\n",
       "      <td>160.000</td>\n",
       "    </tr>\n",
       "    <tr>\n",
       "      <th>Retail store</th>\n",
       "      <td>21982.0</td>\n",
       "      <td>0.660768</td>\n",
       "      <td>3.204588</td>\n",
       "      <td>0.000</td>\n",
       "      <td>0.00</td>\n",
       "      <td>0.000</td>\n",
       "      <td>0.000</td>\n",
       "      <td>160.000</td>\n",
       "    </tr>\n",
       "  </tbody>\n",
       "</table>\n",
       "</div>"
      ],
      "text/plain": [
       "                                 count       mean         std    min    25%  \\\n",
       "PURCHASE_COUNT                 21982.0   3.345464    8.523350  0.000   0.00   \n",
       "PURCHASE_COUNT_DELIVERY        21982.0   3.141661    8.301183  0.000   0.00   \n",
       "PURCHASE_COUNT_TAKEAWAY        21982.0   0.203803    1.063922  0.000   0.00   \n",
       "BREAKFAST_PURCHASES            21982.0   0.106132    0.822365  0.000   0.00   \n",
       "LUNCH_PURCHASES                21982.0   1.299518    4.326355  0.000   0.00   \n",
       "EVENING_PURCHASES              21982.0   0.269994    1.374086  0.000   0.00   \n",
       "DINNER_PURCHASES               21982.0   1.657402    4.157727  0.000   0.00   \n",
       "LATE_NIGHT_PURCHASES           21982.0   0.000000    0.000000  0.000   0.00   \n",
       "TOTAL_PURCHASES_EUR            21982.0  96.416180  237.988780  0.000   0.00   \n",
       "DISTINCT_PURCHASE_VENUE_COUNT  21982.0   1.816395    3.239236  0.000   0.00   \n",
       "MIN_PURCHASE_VALUE_EUR         21982.0  13.364808   18.536403  0.000   0.00   \n",
       "MAX_PURCHASE_VALUE_EUR         21982.0  23.016823   36.962339  0.000   0.00   \n",
       "AVG_PURCHASE_VALUE_EUR         21982.0  17.067406   21.816180  0.000   0.00   \n",
       "IOS_PURCHASES                  12027.0   2.900640    7.456578  0.000   0.00   \n",
       "WEB_PURCHASES                  12027.0   1.056623    4.776620  0.000   0.00   \n",
       "ANDROID_PURCHASES              12027.0   2.157313    6.876572  0.000   0.00   \n",
       "AVG_DAYS_BETWEEN_PURCHASES      7832.0  64.293539   72.570103  0.000  18.00   \n",
       "MEDIAN_DAYS_BETWEEN_PURCHASES   7832.0  55.792135   74.963336  0.000  10.00   \n",
       "AVERAGE_DELIVERY_DISTANCE_KMS  12027.0   5.961290    3.466398  0.002   2.95   \n",
       "General merchandise            21982.0   0.065599    0.247586  0.000   0.00   \n",
       "Grocery                        21982.0   0.578064    2.959929  0.000   0.00   \n",
       "Pet supplies                   21982.0   0.007961    0.088871  0.000   0.00   \n",
       "Restaurant                     21982.0   2.033073    4.232791  0.000   0.00   \n",
       "Retail store                   21982.0   0.660768    3.204588  0.000   0.00   \n",
       "\n",
       "                                  50%     75%       max  \n",
       "PURCHASE_COUNT                  1.000   3.000   320.000  \n",
       "PURCHASE_COUNT_DELIVERY         1.000   3.000   320.000  \n",
       "PURCHASE_COUNT_TAKEAWAY         0.000   0.000    44.000  \n",
       "BREAKFAST_PURCHASES             0.000   0.000    52.000  \n",
       "LUNCH_PURCHASES                 0.000   1.000   171.000  \n",
       "EVENING_PURCHASES               0.000   0.000    71.000  \n",
       "DINNER_PURCHASES                0.000   1.000   104.000  \n",
       "LATE_NIGHT_PURCHASES            0.000   0.000     0.000  \n",
       "TOTAL_PURCHASES_EUR            16.192  87.791  7979.620  \n",
       "DISTINCT_PURCHASE_VENUE_COUNT   1.000   2.000    71.000  \n",
       "MIN_PURCHASE_VALUE_EUR          8.112  21.294   659.100  \n",
       "MAX_PURCHASE_VALUE_EUR         14.224  37.592  3048.000  \n",
       "AVG_PURCHASE_VALUE_EUR         12.144  29.348   657.800  \n",
       "IOS_PURCHASES                   0.000   2.000   200.000  \n",
       "WEB_PURCHASES                   0.000   1.000   196.000  \n",
       "ANDROID_PURCHASES               0.000   1.000   221.000  \n",
       "AVG_DAYS_BETWEEN_PURCHASES     39.500  81.000   421.000  \n",
       "MEDIAN_DAYS_BETWEEN_PURCHASES  25.000  68.250   421.000  \n",
       "AVERAGE_DELIVERY_DISTANCE_KMS   5.930   8.978    11.999  \n",
       "General merchandise             0.000   0.000     1.000  \n",
       "Grocery                         0.000   0.000   110.000  \n",
       "Pet supplies                    0.000   0.000     1.000  \n",
       "Restaurant                      1.000   3.000   160.000  \n",
       "Retail store                    0.000   0.000   160.000  "
      ]
     },
     "execution_count": 11,
     "metadata": {},
     "output_type": "execute_result"
    }
   ],
   "source": [
    "## No late night purchases!!\n",
    "numeric_data.describe().transpose()"
   ]
  },
  {
   "cell_type": "code",
   "execution_count": 12,
   "id": "1a9931f4",
   "metadata": {
    "scrolled": true
   },
   "outputs": [
    {
     "data": {
      "text/html": [
       "<div>\n",
       "<style scoped>\n",
       "    .dataframe tbody tr th:only-of-type {\n",
       "        vertical-align: middle;\n",
       "    }\n",
       "\n",
       "    .dataframe tbody tr th {\n",
       "        vertical-align: top;\n",
       "    }\n",
       "\n",
       "    .dataframe thead th {\n",
       "        text-align: right;\n",
       "    }\n",
       "</style>\n",
       "<table border=\"1\" class=\"dataframe\">\n",
       "  <thead>\n",
       "    <tr style=\"text-align: right;\">\n",
       "      <th></th>\n",
       "      <th>count</th>\n",
       "      <th>unique</th>\n",
       "      <th>top</th>\n",
       "      <th>freq</th>\n",
       "    </tr>\n",
       "  </thead>\n",
       "  <tbody>\n",
       "    <tr>\n",
       "      <th>REGISTRATION_COUNTRY</th>\n",
       "      <td>21982</td>\n",
       "      <td>59</td>\n",
       "      <td>FIN</td>\n",
       "      <td>10276</td>\n",
       "    </tr>\n",
       "    <tr>\n",
       "      <th>PREFERRED_DEVICE</th>\n",
       "      <td>21909</td>\n",
       "      <td>3</td>\n",
       "      <td>ios</td>\n",
       "      <td>9746</td>\n",
       "    </tr>\n",
       "    <tr>\n",
       "      <th>USER_HAS_VALID_PAYMENT_METHOD</th>\n",
       "      <td>21982</td>\n",
       "      <td>2</td>\n",
       "      <td>False</td>\n",
       "      <td>14414</td>\n",
       "    </tr>\n",
       "    <tr>\n",
       "      <th>MOST_COMMON_HOUR_OF_THE_DAY_TO_PURCHASE</th>\n",
       "      <td>12027.0</td>\n",
       "      <td>24.0</td>\n",
       "      <td>18.0</td>\n",
       "      <td>543.0</td>\n",
       "    </tr>\n",
       "    <tr>\n",
       "      <th>MOST_COMMON_WEEKDAY_TO_PURCHASE</th>\n",
       "      <td>12027.0</td>\n",
       "      <td>7.0</td>\n",
       "      <td>7.0</td>\n",
       "      <td>1778.0</td>\n",
       "    </tr>\n",
       "  </tbody>\n",
       "</table>\n",
       "</div>"
      ],
      "text/plain": [
       "                                           count unique    top    freq\n",
       "REGISTRATION_COUNTRY                       21982     59    FIN   10276\n",
       "PREFERRED_DEVICE                           21909      3    ios    9746\n",
       "USER_HAS_VALID_PAYMENT_METHOD              21982      2  False   14414\n",
       "MOST_COMMON_HOUR_OF_THE_DAY_TO_PURCHASE  12027.0   24.0   18.0   543.0\n",
       "MOST_COMMON_WEEKDAY_TO_PURCHASE          12027.0    7.0    7.0  1778.0"
      ]
     },
     "execution_count": 12,
     "metadata": {},
     "output_type": "execute_result"
    }
   ],
   "source": [
    "cat_data.describe().transpose()"
   ]
  },
  {
   "cell_type": "code",
   "execution_count": 13,
   "id": "954da80c",
   "metadata": {},
   "outputs": [
    {
     "data": {
      "text/plain": [
       "REGISTRATION_COUNTRY\n",
       "FIN    10276\n",
       "DNK     8081\n",
       "GRC     3042\n",
       "USA       70\n",
       "GBR       54\n",
       "Name: count, dtype: int64"
      ]
     },
     "execution_count": 13,
     "metadata": {},
     "output_type": "execute_result"
    }
   ],
   "source": [
    "cat_data['REGISTRATION_COUNTRY'].value_counts().head(5)"
   ]
  },
  {
   "cell_type": "code",
   "execution_count": 14,
   "id": "d80c5363",
   "metadata": {},
   "outputs": [
    {
     "data": {
      "text/plain": [
       "REGISTRATION_COUNTRY\n",
       "FIN    46.747339\n",
       "DNK    36.761896\n",
       "GRC    13.838595\n",
       "USA     0.318442\n",
       "GBR     0.245656\n",
       "Name: proportion, dtype: float64"
      ]
     },
     "execution_count": 14,
     "metadata": {},
     "output_type": "execute_result"
    }
   ],
   "source": [
    "cat_data['REGISTRATION_COUNTRY'].value_counts(normalize=True).mul(100).head(5)"
   ]
  },
  {
   "cell_type": "code",
   "execution_count": 15,
   "id": "a839b139",
   "metadata": {},
   "outputs": [
    {
     "data": {
      "text/plain": [
       "PREFERRED_DEVICE\n",
       "ios        44.484002\n",
       "android    38.559496\n",
       "web        16.956502\n",
       "Name: proportion, dtype: float64"
      ]
     },
     "execution_count": 15,
     "metadata": {},
     "output_type": "execute_result"
    }
   ],
   "source": [
    "cat_data['PREFERRED_DEVICE'].value_counts(normalize=True).mul(100)"
   ]
  },
  {
   "cell_type": "code",
   "execution_count": 16,
   "id": "21506d32",
   "metadata": {},
   "outputs": [
    {
     "data": {
      "text/plain": [
       "USER_HAS_VALID_PAYMENT_METHOD\n",
       "False    65.571831\n",
       "True     34.428169\n",
       "Name: proportion, dtype: float64"
      ]
     },
     "execution_count": 16,
     "metadata": {},
     "output_type": "execute_result"
    }
   ],
   "source": [
    "cat_data['USER_HAS_VALID_PAYMENT_METHOD'].value_counts(normalize=True).mul(100)"
   ]
  },
  {
   "cell_type": "code",
   "execution_count": 17,
   "id": "ff4dc122",
   "metadata": {},
   "outputs": [],
   "source": [
    "df['PURCHASE_COUNT_FLAG'] = np.where(((df['PURCHASE_COUNT_DELIVERY'] > 0) & (df['PURCHASE_COUNT_TAKEAWAY'] > 0))==True,'Both',\n",
    "                                    np.where(df['PURCHASE_COUNT_DELIVERY'] > 0,'Delivery',np.where(df['PURCHASE_COUNT_TAKEAWAY']>0,'Takeaway','NO_PURCHASE')))"
   ]
  },
  {
   "cell_type": "code",
   "execution_count": 18,
   "id": "4a537efb",
   "metadata": {},
   "outputs": [
    {
     "data": {
      "text/plain": [
       "PURCHASE_COUNT_FLAG\n",
       "Delivery    83.079737\n",
       "Both        13.428120\n",
       "Takeaway     3.492143\n",
       "Name: proportion, dtype: float64"
      ]
     },
     "execution_count": 18,
     "metadata": {},
     "output_type": "execute_result"
    }
   ],
   "source": [
    "df[df['PURCHASE_COUNT']>0]['PURCHASE_COUNT_FLAG'].value_counts(normalize=True).mul(100)"
   ]
  },
  {
   "cell_type": "code",
   "execution_count": 19,
   "id": "494e4e41",
   "metadata": {},
   "outputs": [],
   "source": [
    "df['PURCHASE_CUST'] = np.where(df['PURCHASE_COUNT'] > 0,'PURCHASE','NO_PURCHASE')"
   ]
  },
  {
   "cell_type": "code",
   "execution_count": 20,
   "id": "fec14e41",
   "metadata": {},
   "outputs": [
    {
     "data": {
      "text/plain": [
       "PURCHASE_CUST\n",
       "PURCHASE       54.712947\n",
       "NO_PURCHASE    45.287053\n",
       "Name: proportion, dtype: float64"
      ]
     },
     "execution_count": 20,
     "metadata": {},
     "output_type": "execute_result"
    }
   ],
   "source": [
    "df['PURCHASE_CUST'].value_counts(normalize=True).mul(100)"
   ]
  },
  {
   "cell_type": "code",
   "execution_count": 21,
   "id": "34e2fdbf",
   "metadata": {},
   "outputs": [
    {
     "data": {
      "image/png": "[encoded data removed]",
      "text/plain": [
       "<Figure size 552.75x200 with 1 Axes>"
      ]
     },
     "metadata": {},
     "output_type": "display_data"
    }
   ],
   "source": [
    "x, y = 'USER_HAS_VALID_PAYMENT_METHOD', 'PURCHASE_CUST' \n",
    "df1 = df.groupby('USER_HAS_VALID_PAYMENT_METHOD')['PURCHASE_CUST'].value_counts(normalize = True)\n",
    "df1 = df1.mul(100)\n",
    "df1 = df1.rename('percent').reset_index()\n",
    "\n",
    "g = sns.catplot(x = x, y = 'percent',hue = y, kind = 'bar', data = df1, height = 2, aspect = 2)\n",
    "g.ax.set_ylim(0,100)\n",
    "\n",
    "for p in g.ax.patches:\n",
    "    txt = str(p.get_height().round(2)) + '%'\n",
    "    txt_x = p.get_x() \n",
    "    txt_y = p.get_height()\n",
    "    g.ax.text(txt_x,txt_y,txt)"
   ]
  },
  {
   "cell_type": "code",
   "execution_count": 22,
   "id": "0a830548",
   "metadata": {},
   "outputs": [
    {
     "data": {
      "image/png": "[encoded data removed]",
      "text/plain": [
       "<Figure size 552.75x200 with 1 Axes>"
      ]
     },
     "metadata": {},
     "output_type": "display_data"
    }
   ],
   "source": [
    "x, y = 'PREFERRED_DEVICE', 'PURCHASE_CUST' \n",
    "df1 = df.groupby('PREFERRED_DEVICE')['PURCHASE_CUST'].value_counts(normalize = True)\n",
    "df1 = df1.mul(100)\n",
    "df1 = df1.rename('percent').reset_index()\n",
    "\n",
    "g = sns.catplot(x = x, y = 'percent',hue = y, kind = 'bar', data = df1, height = 2, aspect = 2)\n",
    "g.ax.set_ylim(0,100)\n",
    "\n",
    "for p in g.ax.patches:\n",
    "    txt = str(p.get_height().round(2)) + '%'\n",
    "    txt_x = p.get_x() \n",
    "    txt_y = p.get_height()\n",
    "    g.ax.text(txt_x,txt_y,txt)"
   ]
  },
  {
   "cell_type": "code",
   "execution_count": 23,
   "id": "c1a9316d",
   "metadata": {},
   "outputs": [
    {
     "data": {
      "text/plain": [
       "<seaborn.axisgrid.FacetGrid at 0x17f6100d0>"
      ]
     },
     "execution_count": 23,
     "metadata": {},
     "output_type": "execute_result"
    },
    {
     "data": {
      "image/png": "[encoded data removed]",
      "text/plain": [
       "<Figure size 900x300 with 1 Axes>"
      ]
     },
     "metadata": {},
     "output_type": "display_data"
    }
   ],
   "source": [
    "def boxplot(x,y,**kwargs):\n",
    "            sns.boxplot(x=x,y=y)\n",
    "            x = plt.xticks()\n",
    "\n",
    "cat = ['PURCHASE_CUST']\n",
    "df1 = df[df['PURCHASE_COUNT']>0]\n",
    "p = pd.melt(df1, id_vars='AVERAGE_DELIVERY_DISTANCE_KMS', value_vars=cat)\n",
    "g = sns.FacetGrid (p, col='variable', col_wrap=3, sharex=False, sharey=False)\n",
    "g = g.map(boxplot, 'value','AVERAGE_DELIVERY_DISTANCE_KMS')\n",
    "g"
   ]
  },
  {
   "cell_type": "code",
   "execution_count": 24,
   "id": "86c3ebbf",
   "metadata": {},
   "outputs": [
    {
     "data": {
      "text/plain": [
       "<seaborn.axisgrid.FacetGrid at 0x17f6542b0>"
      ]
     },
     "execution_count": 24,
     "metadata": {},
     "output_type": "execute_result"
    },
    {
     "data": {
      "image/png": "[encoded data removed]",
      "text/plain": [
       "<Figure size 900x600 with 4 Axes>"
      ]
     },
     "metadata": {},
     "output_type": "display_data"
    }
   ],
   "source": [
    "cat = ['PREFERRED_DEVICE','REGISTRATION_COUNTRY','PURCHASE_COUNT_FLAG','MOST_COMMON_WEEKDAY_TO_PURCHASE']\n",
    "\n",
    "df1 = df.copy()\n",
    "df1['REGISTRATION_COUNTRY'] = np.where(df1['REGISTRATION_COUNTRY'].isin(['FIN','DNK','GRC','GBR']),df1['REGISTRATION_COUNTRY'],'OTHERS')\n",
    "df1['PURCHASE_COUNT_FLAG'] = np.where(df1['PURCHASE_COUNT_DELIVERY'] > 0,'Delivery',np.where(df1['PURCHASE_COUNT_TAKEAWAY']>0,'Takeaway','NO_PURCHASE'))\n",
    "## Capping the outlier rows with Percentiles\n",
    "upper_lim = df1['PURCHASE_COUNT'].quantile(.95)\n",
    "lower_lim = df1['PURCHASE_COUNT'].quantile(.05)\n",
    "df1.loc[(df1['PURCHASE_COUNT'] > upper_lim),'PURCHASE_COUNT'] = upper_lim\n",
    "df1.loc[(df1['PURCHASE_COUNT'] < lower_lim),'PURCHASE_COUNT'] = lower_lim\n",
    "\n",
    "p = pd.melt(df1, id_vars='PURCHASE_COUNT', value_vars=cat)\n",
    "g = sns.FacetGrid (p, col='variable', col_wrap=3, sharex=False, sharey=False)\n",
    "g = g.map(boxplot, 'value','PURCHASE_COUNT')\n",
    "g"
   ]
  },
  {
   "cell_type": "code",
   "execution_count": 25,
   "id": "c96af210",
   "metadata": {},
   "outputs": [
    {
     "data": {
      "text/plain": [
       "<seaborn.axisgrid.FacetGrid at 0x107f4dfc0>"
      ]
     },
     "execution_count": 25,
     "metadata": {},
     "output_type": "execute_result"
    },
    {
     "data": {
      "image/png": "[encoded data removed]",
      "text/plain": [
       "<Figure size 900x300 with 3 Axes>"
      ]
     },
     "metadata": {},
     "output_type": "display_data"
    }
   ],
   "source": [
    "cat = ['PREFERRED_DEVICE','REGISTRATION_COUNTRY','PURCHASE_COUNT_FLAG']\n",
    "\n",
    "## Capping the outlier rows with Percentiles\n",
    "upper_lim = df1['AVG_PURCHASE_VALUE_EUR'].quantile(.95)\n",
    "lower_lim = df1['AVG_PURCHASE_VALUE_EUR'].quantile(.05)\n",
    "df1.loc[(df1['AVG_PURCHASE_VALUE_EUR'] > upper_lim),'AVG_PURCHASE_VALUE_EUR'] = upper_lim\n",
    "df1.loc[(df1['AVG_PURCHASE_VALUE_EUR'] < lower_lim),'AVG_PURCHASE_VALUE_EUR'] = lower_lim\n",
    "\n",
    "p = pd.melt(df1, id_vars='AVG_PURCHASE_VALUE_EUR', value_vars=cat)\n",
    "g = sns.FacetGrid (p, col='variable', col_wrap=3, sharex=False, sharey=False)\n",
    "g = g.map(boxplot, 'value','AVG_PURCHASE_VALUE_EUR')\n",
    "g"
   ]
  },
  {
   "cell_type": "code",
   "execution_count": 26,
   "id": "71b9fa77",
   "metadata": {},
   "outputs": [],
   "source": [
    "df[['FIRST_PURCHASE_DAY', 'LAST_PURCHASE_DAY', 'PREFERRED_DEVICE',\n",
    "       'IOS_PURCHASES', 'WEB_PURCHASES', 'ANDROID_PURCHASES',\n",
    "       'PREFERRED_RESTAURANT_TYPES', 'MOST_COMMON_HOUR_OF_THE_DAY_TO_PURCHASE',\n",
    "       'MOST_COMMON_WEEKDAY_TO_PURCHASE', 'AVG_DAYS_BETWEEN_PURCHASES',\n",
    "       'MEDIAN_DAYS_BETWEEN_PURCHASES', 'AVERAGE_DELIVERY_DISTANCE_KMS']]=df[['FIRST_PURCHASE_DAY', 'LAST_PURCHASE_DAY', 'PREFERRED_DEVICE',\n",
    "       'IOS_PURCHASES', 'WEB_PURCHASES', 'ANDROID_PURCHASES',\n",
    "       'PREFERRED_RESTAURANT_TYPES', 'MOST_COMMON_HOUR_OF_THE_DAY_TO_PURCHASE',\n",
    "       'MOST_COMMON_WEEKDAY_TO_PURCHASE', 'AVG_DAYS_BETWEEN_PURCHASES',\n",
    "       'MEDIAN_DAYS_BETWEEN_PURCHASES', 'AVERAGE_DELIVERY_DISTANCE_KMS']].fillna('-1')\n",
    "upper_lim = df['PURCHASE_COUNT'].quantile(.95)\n",
    "lower_lim = df['PURCHASE_COUNT'].quantile(.05)\n",
    "df.loc[(df['PURCHASE_COUNT'] > upper_lim),'PURCHASE_COUNT'] = upper_lim\n",
    "df.loc[(df['PURCHASE_COUNT'] < lower_lim),'PURCHASE_COUNT'] = lower_lim\n",
    "upper_lim = df['AVG_PURCHASE_VALUE_EUR'].quantile(.95)\n",
    "lower_lim = df['AVG_PURCHASE_VALUE_EUR'].quantile(.05)\n",
    "df.loc[(df['AVG_PURCHASE_VALUE_EUR'] > upper_lim),'AVG_PURCHASE_VALUE_EUR'] = upper_lim\n",
    "df.loc[(df['AVG_PURCHASE_VALUE_EUR'] < lower_lim),'AVG_PURCHASE_VALUE_EUR'] = lower_lim"
   ]
  },
  {
   "cell_type": "code",
   "execution_count": 27,
   "id": "d8512a3d",
   "metadata": {},
   "outputs": [
    {
     "data": {
      "text/plain": [
       "'2019-09-30 00:00:00.000'"
      ]
     },
     "execution_count": 27,
     "metadata": {},
     "output_type": "execute_result"
    }
   ],
   "source": [
    "df['REGISTRATION_DATE'].max()"
   ]
  },
  {
   "cell_type": "code",
   "execution_count": 28,
   "id": "75cca735",
   "metadata": {},
   "outputs": [
    {
     "data": {
      "text/plain": [
       "'2020-10-31 00:00:00.000'"
      ]
     },
     "execution_count": 28,
     "metadata": {},
     "output_type": "execute_result"
    }
   ],
   "source": [
    "df['LAST_PURCHASE_DAY'].max()"
   ]
  },
  {
   "cell_type": "markdown",
   "id": "d4287550",
   "metadata": {},
   "source": [
    "### User segmentation that could be utilised by the marketing team to reactivate different kinds of users"
   ]
  },
  {
   "cell_type": "code",
   "execution_count": 29,
   "id": "1b803ad6",
   "metadata": {},
   "outputs": [
    {
     "data": {
      "text/plain": [
       "count    12027.000000\n",
       "mean       196.037166\n",
       "std        160.544216\n",
       "min          1.000000\n",
       "25%         35.000000\n",
       "50%        163.000000\n",
       "75%        387.000000\n",
       "max        427.000000\n",
       "Name: recency, dtype: float64"
      ]
     },
     "execution_count": 29,
     "metadata": {},
     "output_type": "execute_result"
    }
   ],
   "source": [
    "## Considering current date: 2020-11-01\n",
    "NOW = dt.datetime(2020,11,1)\n",
    "df['recency'] = np.where(df['LAST_PURCHASE_DAY'] != '-1',(NOW - pd.to_datetime(df['LAST_PURCHASE_DAY'],errors='coerce')).dt.days,999)\n",
    "df[df['LAST_PURCHASE_DAY'] != '-1']['recency'].describe()"
   ]
  },
  {
   "cell_type": "markdown",
   "id": "dcad1f69",
   "metadata": {},
   "source": [
    "#### Recency:  Number of days since the last purchase day"
   ]
  },
  {
   "cell_type": "code",
   "execution_count": 30,
   "id": "a68ca0e2",
   "metadata": {},
   "outputs": [
    {
     "data": {
      "image/png": "[encoded data removed]",
      "text/plain": [
       "<Figure size 300x200 with 1 Axes>"
      ]
     },
     "metadata": {},
     "output_type": "display_data"
    }
   ],
   "source": [
    "sse={}\n",
    "##Customers with atleast one purchase\n",
    "segment = df.copy()\n",
    "segment = segment[segment['PURCHASE_COUNT']>0]\n",
    "df_recency = segment[['recency']]\n",
    "for k in range(1, 10):\n",
    "    kmeans = KMeans(n_clusters=k, max_iter=1000).fit(df_recency)\n",
    "    df_recency[\"clusters\"] = kmeans.labels_\n",
    "    sse[k] = kmeans.inertia_ \n",
    "plt.figure(figsize=(3,2))\n",
    "plt.plot(list(sse.keys()), list(sse.values()))\n",
    "plt.xlabel(\"Number of clusters\")\n",
    "plt.show()"
   ]
  },
  {
   "cell_type": "code",
   "execution_count": 31,
   "id": "509b9abe",
   "metadata": {},
   "outputs": [
    {
     "data": {
      "text/html": [
       "<div>\n",
       "<style scoped>\n",
       "    .dataframe tbody tr th:only-of-type {\n",
       "        vertical-align: middle;\n",
       "    }\n",
       "\n",
       "    .dataframe tbody tr th {\n",
       "        vertical-align: top;\n",
       "    }\n",
       "\n",
       "    .dataframe thead th {\n",
       "        text-align: right;\n",
       "    }\n",
       "</style>\n",
       "<table border=\"1\" class=\"dataframe\">\n",
       "  <thead>\n",
       "    <tr style=\"text-align: right;\">\n",
       "      <th></th>\n",
       "      <th>count</th>\n",
       "      <th>mean</th>\n",
       "      <th>std</th>\n",
       "      <th>min</th>\n",
       "      <th>25%</th>\n",
       "      <th>50%</th>\n",
       "      <th>75%</th>\n",
       "      <th>max</th>\n",
       "    </tr>\n",
       "    <tr>\n",
       "      <th>recency_cluster</th>\n",
       "      <th></th>\n",
       "      <th></th>\n",
       "      <th></th>\n",
       "      <th></th>\n",
       "      <th></th>\n",
       "      <th></th>\n",
       "      <th></th>\n",
       "      <th></th>\n",
       "    </tr>\n",
       "  </thead>\n",
       "  <tbody>\n",
       "    <tr>\n",
       "      <th>0</th>\n",
       "      <td>4244.0</td>\n",
       "      <td>391.128652</td>\n",
       "      <td>34.854520</td>\n",
       "      <td>293.0</td>\n",
       "      <td>378.0</td>\n",
       "      <td>404.0</td>\n",
       "      <td>415.0</td>\n",
       "      <td>427.0</td>\n",
       "    </tr>\n",
       "    <tr>\n",
       "      <th>1</th>\n",
       "      <td>2640.0</td>\n",
       "      <td>194.051136</td>\n",
       "      <td>49.816739</td>\n",
       "      <td>115.0</td>\n",
       "      <td>153.0</td>\n",
       "      <td>188.0</td>\n",
       "      <td>236.0</td>\n",
       "      <td>292.0</td>\n",
       "    </tr>\n",
       "    <tr>\n",
       "      <th>2</th>\n",
       "      <td>5143.0</td>\n",
       "      <td>36.067276</td>\n",
       "      <td>31.519519</td>\n",
       "      <td>1.0</td>\n",
       "      <td>9.0</td>\n",
       "      <td>26.0</td>\n",
       "      <td>57.0</td>\n",
       "      <td>114.0</td>\n",
       "    </tr>\n",
       "  </tbody>\n",
       "</table>\n",
       "</div>"
      ],
      "text/plain": [
       "                  count        mean        std    min    25%    50%    75%  \\\n",
       "recency_cluster                                                              \n",
       "0                4244.0  391.128652  34.854520  293.0  378.0  404.0  415.0   \n",
       "1                2640.0  194.051136  49.816739  115.0  153.0  188.0  236.0   \n",
       "2                5143.0   36.067276  31.519519    1.0    9.0   26.0   57.0   \n",
       "\n",
       "                   max  \n",
       "recency_cluster         \n",
       "0                427.0  \n",
       "1                292.0  \n",
       "2                114.0  "
      ]
     },
     "execution_count": 31,
     "metadata": {},
     "output_type": "execute_result"
    }
   ],
   "source": [
    "kmeans = KMeans(n_clusters=3)\n",
    "kmeans.fit(segment[['recency']])\n",
    "segment['recency_cluster'] = kmeans.predict(segment[['recency']])\n",
    "\n",
    "#function for ordering cluster numbers\n",
    "def order_cluster(cluster_field_name, target_field_name,df,ascending):\n",
    "    new_cluster_field_name = 'new_' + cluster_field_name\n",
    "    df_new = df.groupby(cluster_field_name)[target_field_name].mean().reset_index()\n",
    "    df_new = df_new.sort_values(by=target_field_name,ascending=ascending).reset_index(drop=True)\n",
    "    df_new['index'] = df_new.index\n",
    "    df_final = pd.merge(df,df_new[[cluster_field_name,'index']], on=cluster_field_name)\n",
    "    df_final = df_final.drop([cluster_field_name],axis=1)\n",
    "    df_final = df_final.rename(columns={\"index\":cluster_field_name})\n",
    "    return df_final\n",
    "\n",
    "segment = order_cluster('recency_cluster', 'recency', segment, False)\n",
    "segment.groupby('recency_cluster')['recency'].describe()"
   ]
  },
  {
   "cell_type": "code",
   "execution_count": 32,
   "id": "d2eb7dd9",
   "metadata": {},
   "outputs": [
    {
     "data": {
      "image/png": "[encoded data removed]",
      "text/plain": [
       "<Figure size 300x200 with 1 Axes>"
      ]
     },
     "metadata": {},
     "output_type": "display_data"
    }
   ],
   "source": [
    "sse={}\n",
    "\n",
    "df_purchase = segment[['PURCHASE_COUNT']]\n",
    "for k in range(1, 10):\n",
    "    kmeans = KMeans(n_clusters=k, max_iter=1000).fit(df_recency)\n",
    "    df_purchase[\"clusters\"] = kmeans.labels_\n",
    "    sse[k] = kmeans.inertia_ \n",
    "plt.figure(figsize=(3,2))\n",
    "plt.plot(list(sse.keys()), list(sse.values()))\n",
    "plt.xlabel(\"Number of clusters\")\n",
    "plt.show()"
   ]
  },
  {
   "cell_type": "code",
   "execution_count": 33,
   "id": "364375b4",
   "metadata": {},
   "outputs": [
    {
     "data": {
      "text/html": [
       "<div>\n",
       "<style scoped>\n",
       "    .dataframe tbody tr th:only-of-type {\n",
       "        vertical-align: middle;\n",
       "    }\n",
       "\n",
       "    .dataframe tbody tr th {\n",
       "        vertical-align: top;\n",
       "    }\n",
       "\n",
       "    .dataframe thead th {\n",
       "        text-align: right;\n",
       "    }\n",
       "</style>\n",
       "<table border=\"1\" class=\"dataframe\">\n",
       "  <thead>\n",
       "    <tr style=\"text-align: right;\">\n",
       "      <th></th>\n",
       "      <th>count</th>\n",
       "      <th>mean</th>\n",
       "      <th>std</th>\n",
       "      <th>min</th>\n",
       "      <th>25%</th>\n",
       "      <th>50%</th>\n",
       "      <th>75%</th>\n",
       "      <th>max</th>\n",
       "    </tr>\n",
       "    <tr>\n",
       "      <th>purchase_cluster</th>\n",
       "      <th></th>\n",
       "      <th></th>\n",
       "      <th></th>\n",
       "      <th></th>\n",
       "      <th></th>\n",
       "      <th></th>\n",
       "      <th></th>\n",
       "      <th></th>\n",
       "    </tr>\n",
       "  </thead>\n",
       "  <tbody>\n",
       "    <tr>\n",
       "      <th>0</th>\n",
       "      <td>7982.0</td>\n",
       "      <td>1.829617</td>\n",
       "      <td>1.028005</td>\n",
       "      <td>1.0</td>\n",
       "      <td>1.0</td>\n",
       "      <td>1.0</td>\n",
       "      <td>2.0</td>\n",
       "      <td>4.0</td>\n",
       "    </tr>\n",
       "    <tr>\n",
       "      <th>1</th>\n",
       "      <td>2390.0</td>\n",
       "      <td>7.241841</td>\n",
       "      <td>1.917536</td>\n",
       "      <td>5.0</td>\n",
       "      <td>6.0</td>\n",
       "      <td>7.0</td>\n",
       "      <td>9.0</td>\n",
       "      <td>11.0</td>\n",
       "    </tr>\n",
       "    <tr>\n",
       "      <th>2</th>\n",
       "      <td>1655.0</td>\n",
       "      <td>15.197583</td>\n",
       "      <td>1.355804</td>\n",
       "      <td>12.0</td>\n",
       "      <td>15.0</td>\n",
       "      <td>16.0</td>\n",
       "      <td>16.0</td>\n",
       "      <td>16.0</td>\n",
       "    </tr>\n",
       "  </tbody>\n",
       "</table>\n",
       "</div>"
      ],
      "text/plain": [
       "                   count       mean       std   min   25%   50%   75%   max\n",
       "purchase_cluster                                                           \n",
       "0                 7982.0   1.829617  1.028005   1.0   1.0   1.0   2.0   4.0\n",
       "1                 2390.0   7.241841  1.917536   5.0   6.0   7.0   9.0  11.0\n",
       "2                 1655.0  15.197583  1.355804  12.0  15.0  16.0  16.0  16.0"
      ]
     },
     "execution_count": 33,
     "metadata": {},
     "output_type": "execute_result"
    }
   ],
   "source": [
    "kmeans = KMeans(n_clusters=3)\n",
    "kmeans.fit(segment[['PURCHASE_COUNT']])\n",
    "segment['purchase_cluster'] = kmeans.predict(segment[['PURCHASE_COUNT']])\n",
    "\n",
    "#function for ordering cluster numbers\n",
    "def order_cluster(cluster_field_name, target_field_name,df,ascending):\n",
    "    new_cluster_field_name = 'new_' + cluster_field_name\n",
    "    df_new = df.groupby(cluster_field_name)[target_field_name].mean().reset_index()\n",
    "    df_new = df_new.sort_values(by=target_field_name).reset_index(drop=True)\n",
    "    df_new['index'] = df_new.index\n",
    "    df_final = pd.merge(df,df_new[[cluster_field_name,'index']], on=cluster_field_name)\n",
    "    df_final = df_final.drop([cluster_field_name],axis=1)\n",
    "    df_final = df_final.rename(columns={\"index\":cluster_field_name})\n",
    "    return df_final\n",
    "\n",
    "segment = order_cluster('purchase_cluster', 'PURCHASE_COUNT', segment, False)\n",
    "segment.groupby('purchase_cluster')['PURCHASE_COUNT'].describe()"
   ]
  },
  {
   "cell_type": "code",
   "execution_count": 34,
   "id": "22761cdc",
   "metadata": {},
   "outputs": [
    {
     "data": {
      "image/png": "[encoded data removed]",
      "text/plain": [
       "<Figure size 300x200 with 1 Axes>"
      ]
     },
     "metadata": {},
     "output_type": "display_data"
    }
   ],
   "source": [
    "sse={}\n",
    "\n",
    "df_avg_purchase = segment[['AVG_PURCHASE_VALUE_EUR']]\n",
    "for k in range(1, 10):\n",
    "    kmeans = KMeans(n_clusters=k, max_iter=1000).fit(df_recency)\n",
    "    df_avg_purchase[\"clusters\"] = kmeans.labels_\n",
    "    sse[k] = kmeans.inertia_ \n",
    "plt.figure(figsize=(3,2))\n",
    "plt.plot(list(sse.keys()), list(sse.values()))\n",
    "plt.xlabel(\"Number of clusters\")\n",
    "plt.show()"
   ]
  },
  {
   "cell_type": "code",
   "execution_count": 35,
   "id": "a784d2a0",
   "metadata": {},
   "outputs": [
    {
     "data": {
      "text/html": [
       "<div>\n",
       "<style scoped>\n",
       "    .dataframe tbody tr th:only-of-type {\n",
       "        vertical-align: middle;\n",
       "    }\n",
       "\n",
       "    .dataframe tbody tr th {\n",
       "        vertical-align: top;\n",
       "    }\n",
       "\n",
       "    .dataframe thead th {\n",
       "        text-align: right;\n",
       "    }\n",
       "</style>\n",
       "<table border=\"1\" class=\"dataframe\">\n",
       "  <thead>\n",
       "    <tr style=\"text-align: right;\">\n",
       "      <th></th>\n",
       "      <th>count</th>\n",
       "      <th>mean</th>\n",
       "      <th>std</th>\n",
       "      <th>min</th>\n",
       "      <th>25%</th>\n",
       "      <th>50%</th>\n",
       "      <th>75%</th>\n",
       "      <th>max</th>\n",
       "    </tr>\n",
       "    <tr>\n",
       "      <th>avg_purchaseval_cluster</th>\n",
       "      <th></th>\n",
       "      <th></th>\n",
       "      <th></th>\n",
       "      <th></th>\n",
       "      <th></th>\n",
       "      <th></th>\n",
       "      <th></th>\n",
       "      <th></th>\n",
       "    </tr>\n",
       "  </thead>\n",
       "  <tbody>\n",
       "    <tr>\n",
       "      <th>0</th>\n",
       "      <td>4565.0</td>\n",
       "      <td>16.335653</td>\n",
       "      <td>5.174062</td>\n",
       "      <td>1.012</td>\n",
       "      <td>12.144</td>\n",
       "      <td>17.204</td>\n",
       "      <td>20.240</td>\n",
       "      <td>23.276</td>\n",
       "    </tr>\n",
       "    <tr>\n",
       "      <th>1</th>\n",
       "      <td>4811.0</td>\n",
       "      <td>30.877674</td>\n",
       "      <td>4.565851</td>\n",
       "      <td>24.288</td>\n",
       "      <td>27.324</td>\n",
       "      <td>30.360</td>\n",
       "      <td>34.408</td>\n",
       "      <td>39.468</td>\n",
       "    </tr>\n",
       "    <tr>\n",
       "      <th>2</th>\n",
       "      <td>2651.0</td>\n",
       "      <td>48.358025</td>\n",
       "      <td>4.488244</td>\n",
       "      <td>40.480</td>\n",
       "      <td>44.528</td>\n",
       "      <td>49.588</td>\n",
       "      <td>52.624</td>\n",
       "      <td>52.624</td>\n",
       "    </tr>\n",
       "  </tbody>\n",
       "</table>\n",
       "</div>"
      ],
      "text/plain": [
       "                          count       mean       std     min     25%     50%  \\\n",
       "avg_purchaseval_cluster                                                        \n",
       "0                        4565.0  16.335653  5.174062   1.012  12.144  17.204   \n",
       "1                        4811.0  30.877674  4.565851  24.288  27.324  30.360   \n",
       "2                        2651.0  48.358025  4.488244  40.480  44.528  49.588   \n",
       "\n",
       "                            75%     max  \n",
       "avg_purchaseval_cluster                  \n",
       "0                        20.240  23.276  \n",
       "1                        34.408  39.468  \n",
       "2                        52.624  52.624  "
      ]
     },
     "execution_count": 35,
     "metadata": {},
     "output_type": "execute_result"
    }
   ],
   "source": [
    "kmeans = KMeans(n_clusters=3)\n",
    "kmeans.fit(segment[['AVG_PURCHASE_VALUE_EUR']])\n",
    "segment['avg_purchaseval_cluster'] = kmeans.predict(segment[['AVG_PURCHASE_VALUE_EUR']])\n",
    "\n",
    "#function for ordering cluster numbers\n",
    "def order_cluster(cluster_field_name, target_field_name,df,ascending):\n",
    "    new_cluster_field_name = 'new_' + cluster_field_name\n",
    "    df_new = df.groupby(cluster_field_name)[target_field_name].mean().reset_index()\n",
    "    df_new = df_new.sort_values(by=target_field_name).reset_index(drop=True)\n",
    "    df_new['index'] = df_new.index\n",
    "    df_final = pd.merge(df,df_new[[cluster_field_name,'index']], on=cluster_field_name)\n",
    "    df_final = df_final.drop([cluster_field_name],axis=1)\n",
    "    df_final = df_final.rename(columns={\"index\":cluster_field_name})\n",
    "    return df_final\n",
    "\n",
    "segment = order_cluster('avg_purchaseval_cluster', 'AVG_PURCHASE_VALUE_EUR', segment, False)\n",
    "segment.groupby('avg_purchaseval_cluster')['AVG_PURCHASE_VALUE_EUR'].describe()"
   ]
  },
  {
   "cell_type": "markdown",
   "id": "31a2c859",
   "metadata": {},
   "source": [
    "###  Overall score : Recency cluster +  Avg purchase value cluster + Purchase count cluster cluster\n",
    "\n",
    "### Using these scores, we can segment customers 0 to 2: Low Value , 3 to 4: Mid Value, 5+: High Value."
   ]
  },
  {
   "cell_type": "code",
   "execution_count": 36,
   "id": "72ed6358",
   "metadata": {},
   "outputs": [
    {
     "data": {
      "text/html": [
       "<div>\n",
       "<style scoped>\n",
       "    .dataframe tbody tr th:only-of-type {\n",
       "        vertical-align: middle;\n",
       "    }\n",
       "\n",
       "    .dataframe tbody tr th {\n",
       "        vertical-align: top;\n",
       "    }\n",
       "\n",
       "    .dataframe thead tr th {\n",
       "        text-align: left;\n",
       "    }\n",
       "</style>\n",
       "<table border=\"1\" class=\"dataframe\">\n",
       "  <thead>\n",
       "    <tr>\n",
       "      <th></th>\n",
       "      <th>score</th>\n",
       "      <th>recency</th>\n",
       "      <th>PURCHASE_COUNT</th>\n",
       "      <th>TOTAL_PURCHASES_EUR</th>\n",
       "      <th colspan=\"2\" halign=\"left\">AVG_PURCHASE_VALUE_EUR</th>\n",
       "      <th>%</th>\n",
       "    </tr>\n",
       "    <tr>\n",
       "      <th></th>\n",
       "      <th></th>\n",
       "      <th>mean</th>\n",
       "      <th>mean</th>\n",
       "      <th>mean</th>\n",
       "      <th>mean</th>\n",
       "      <th>count</th>\n",
       "      <th></th>\n",
       "    </tr>\n",
       "  </thead>\n",
       "  <tbody>\n",
       "    <tr>\n",
       "      <th>0</th>\n",
       "      <td>0</td>\n",
       "      <td>394.2</td>\n",
       "      <td>1.4</td>\n",
       "      <td>21.6</td>\n",
       "      <td>15.1</td>\n",
       "      <td>1694</td>\n",
       "      <td>14.084975</td>\n",
       "    </tr>\n",
       "    <tr>\n",
       "      <th>1</th>\n",
       "      <td>1</td>\n",
       "      <td>328.3</td>\n",
       "      <td>1.8</td>\n",
       "      <td>42.5</td>\n",
       "      <td>25.7</td>\n",
       "      <td>2111</td>\n",
       "      <td>17.552174</td>\n",
       "    </tr>\n",
       "    <tr>\n",
       "      <th>2</th>\n",
       "      <td>2</td>\n",
       "      <td>229.8</td>\n",
       "      <td>2.5</td>\n",
       "      <td>75.1</td>\n",
       "      <td>32.4</td>\n",
       "      <td>2789</td>\n",
       "      <td>23.189490</td>\n",
       "    </tr>\n",
       "    <tr>\n",
       "      <th>3</th>\n",
       "      <td>3</td>\n",
       "      <td>102.8</td>\n",
       "      <td>4.6</td>\n",
       "      <td>136.9</td>\n",
       "      <td>31.6</td>\n",
       "      <td>2149</td>\n",
       "      <td>17.868130</td>\n",
       "    </tr>\n",
       "    <tr>\n",
       "      <th>4</th>\n",
       "      <td>4</td>\n",
       "      <td>48.2</td>\n",
       "      <td>8.8</td>\n",
       "      <td>308.4</td>\n",
       "      <td>32.1</td>\n",
       "      <td>2000</td>\n",
       "      <td>16.629251</td>\n",
       "    </tr>\n",
       "    <tr>\n",
       "      <th>5</th>\n",
       "      <td>5</td>\n",
       "      <td>31.3</td>\n",
       "      <td>12.4</td>\n",
       "      <td>606.6</td>\n",
       "      <td>36.6</td>\n",
       "      <td>1101</td>\n",
       "      <td>9.154403</td>\n",
       "    </tr>\n",
       "    <tr>\n",
       "      <th>6</th>\n",
       "      <td>6</td>\n",
       "      <td>23.5</td>\n",
       "      <td>15.0</td>\n",
       "      <td>1118.0</td>\n",
       "      <td>47.3</td>\n",
       "      <td>183</td>\n",
       "      <td>1.521576</td>\n",
       "    </tr>\n",
       "  </tbody>\n",
       "</table>\n",
       "</div>"
      ],
      "text/plain": [
       "  score recency PURCHASE_COUNT TOTAL_PURCHASES_EUR AVG_PURCHASE_VALUE_EUR  \\\n",
       "           mean           mean                mean                   mean   \n",
       "0     0   394.2            1.4                21.6                   15.1   \n",
       "1     1   328.3            1.8                42.5                   25.7   \n",
       "2     2   229.8            2.5                75.1                   32.4   \n",
       "3     3   102.8            4.6               136.9                   31.6   \n",
       "4     4    48.2            8.8               308.4                   32.1   \n",
       "5     5    31.3           12.4               606.6                   36.6   \n",
       "6     6    23.5           15.0              1118.0                   47.3   \n",
       "\n",
       "                 %  \n",
       "  count             \n",
       "0  1694  14.084975  \n",
       "1  2111  17.552174  \n",
       "2  2789  23.189490  \n",
       "3  2149  17.868130  \n",
       "4  2000  16.629251  \n",
       "5  1101   9.154403  \n",
       "6   183   1.521576  "
      ]
     },
     "execution_count": 36,
     "metadata": {},
     "output_type": "execute_result"
    }
   ],
   "source": [
    "## Calculate average values for each score, and return a size of each segment \n",
    "segment['score'] = segment['recency_cluster'] + segment['avg_purchaseval_cluster'] + segment['purchase_cluster']\n",
    "segment_agg = segment.groupby('score').agg({\n",
    "    'recency': 'mean',\n",
    "    'PURCHASE_COUNT': 'mean',\n",
    "    'TOTAL_PURCHASES_EUR': 'mean',\n",
    "    'AVG_PURCHASE_VALUE_EUR': ['mean', 'count']\n",
    "}).round(1).reset_index()\n",
    "\n",
    "segment_agg['%'] = (segment_agg[('AVG_PURCHASE_VALUE_EUR','count')] / segment_agg[('AVG_PURCHASE_VALUE_EUR','count')].sum()) * 100\n",
    "segment_agg.sort_values(by='score')"
   ]
  },
  {
   "cell_type": "code",
   "execution_count": 37,
   "id": "fe2d9aa4",
   "metadata": {},
   "outputs": [],
   "source": [
    "segment['score'] = segment['score'].astype(int)\n",
    "segment['cohort'] = 'Inactive'\n",
    "segment.loc[segment['score']>2,'cohort'] = 'Risk to be Inactive' \n",
    "segment.loc[segment['score']>4,'cohort'] = 'Active'"
   ]
  },
  {
   "cell_type": "code",
   "execution_count": 38,
   "id": "efb24ff0",
   "metadata": {},
   "outputs": [
    {
     "data": {
      "text/plain": [
       "<seaborn.axisgrid.FacetGrid at 0x2838540a0>"
      ]
     },
     "execution_count": 38,
     "metadata": {},
     "output_type": "execute_result"
    },
    {
     "data": {
      "image/png": "[encoded data removed]",
      "text/plain": [
       "<Figure size 600x300 with 1 Axes>"
      ]
     },
     "metadata": {},
     "output_type": "display_data"
    }
   ],
   "source": [
    "grouped = segment.loc[:,['PURCHASE_COUNT', 'cohort']].groupby(['cohort']).mean().sort_values(by='PURCHASE_COUNT')\n",
    "def boxplot(x,y,**kwargs):\n",
    "            sns.boxplot(x=x,y=y,order=grouped.index)\n",
    "            x = plt.xticks(rotation=90)\n",
    "\n",
    "cat = ['cohort']\n",
    "p = pd.melt(segment, id_vars='PURCHASE_COUNT', value_vars=cat)\n",
    "g = sns.FacetGrid (p, col='variable', col_wrap=2, sharex=False, sharey=False)\n",
    "g = g.map(boxplot, 'value','PURCHASE_COUNT')\n",
    "g"
   ]
  },
  {
   "cell_type": "code",
   "execution_count": 39,
   "id": "4192dbff",
   "metadata": {},
   "outputs": [
    {
     "data": {
      "text/plain": [
       "<seaborn.axisgrid.FacetGrid at 0x282765420>"
      ]
     },
     "execution_count": 39,
     "metadata": {},
     "output_type": "execute_result"
    },
    {
     "data": {
      "image/png": "[encoded data removed]",
      "text/plain": [
       "<Figure size 300x300 with 1 Axes>"
      ]
     },
     "metadata": {},
     "output_type": "display_data"
    }
   ],
   "source": [
    "grouped = segment.loc[:,['AVG_PURCHASE_VALUE_EUR', 'cohort']].groupby(['cohort']).mean().sort_values(by='AVG_PURCHASE_VALUE_EUR')\n",
    "\n",
    "cat = ['cohort']\n",
    "p = pd.melt(segment, id_vars='AVG_PURCHASE_VALUE_EUR', value_vars=cat)\n",
    "g = sns.FacetGrid (p, col='variable', col_wrap=1, sharex=False, sharey=False)\n",
    "g = g.map(boxplot, 'value','AVG_PURCHASE_VALUE_EUR')\n",
    "g"
   ]
  },
  {
   "cell_type": "code",
   "execution_count": 40,
   "id": "64be2b55",
   "metadata": {},
   "outputs": [
    {
     "data": {
      "text/html": [
       "<div>\n",
       "<style scoped>\n",
       "    .dataframe tbody tr th:only-of-type {\n",
       "        vertical-align: middle;\n",
       "    }\n",
       "\n",
       "    .dataframe tbody tr th {\n",
       "        vertical-align: top;\n",
       "    }\n",
       "\n",
       "    .dataframe thead tr th {\n",
       "        text-align: left;\n",
       "    }\n",
       "</style>\n",
       "<table border=\"1\" class=\"dataframe\">\n",
       "  <thead>\n",
       "    <tr>\n",
       "      <th></th>\n",
       "      <th>cohort</th>\n",
       "      <th>recency</th>\n",
       "      <th>PURCHASE_COUNT</th>\n",
       "      <th>TOTAL_PURCHASES_EUR</th>\n",
       "      <th colspan=\"2\" halign=\"left\">AVG_PURCHASE_VALUE_EUR</th>\n",
       "      <th>%</th>\n",
       "    </tr>\n",
       "    <tr>\n",
       "      <th></th>\n",
       "      <th></th>\n",
       "      <th>mean</th>\n",
       "      <th>mean</th>\n",
       "      <th>mean</th>\n",
       "      <th>mean</th>\n",
       "      <th>count</th>\n",
       "      <th></th>\n",
       "    </tr>\n",
       "  </thead>\n",
       "  <tbody>\n",
       "    <tr>\n",
       "      <th>1</th>\n",
       "      <td>Inactive</td>\n",
       "      <td>303.6</td>\n",
       "      <td>2.0</td>\n",
       "      <td>50.9</td>\n",
       "      <td>25.8</td>\n",
       "      <td>6594</td>\n",
       "      <td>54.826640</td>\n",
       "    </tr>\n",
       "    <tr>\n",
       "      <th>2</th>\n",
       "      <td>Risk to be Inactive</td>\n",
       "      <td>76.5</td>\n",
       "      <td>6.6</td>\n",
       "      <td>219.6</td>\n",
       "      <td>31.8</td>\n",
       "      <td>4149</td>\n",
       "      <td>34.497381</td>\n",
       "    </tr>\n",
       "    <tr>\n",
       "      <th>0</th>\n",
       "      <td>Active</td>\n",
       "      <td>30.2</td>\n",
       "      <td>12.8</td>\n",
       "      <td>679.5</td>\n",
       "      <td>38.1</td>\n",
       "      <td>1284</td>\n",
       "      <td>10.675979</td>\n",
       "    </tr>\n",
       "  </tbody>\n",
       "</table>\n",
       "</div>"
      ],
      "text/plain": [
       "                cohort recency PURCHASE_COUNT TOTAL_PURCHASES_EUR  \\\n",
       "                          mean           mean                mean   \n",
       "1             Inactive   303.6            2.0                50.9   \n",
       "2  Risk to be Inactive    76.5            6.6               219.6   \n",
       "0               Active    30.2           12.8               679.5   \n",
       "\n",
       "  AVG_PURCHASE_VALUE_EUR                %  \n",
       "                    mean count             \n",
       "1                   25.8  6594  54.826640  \n",
       "2                   31.8  4149  34.497381  \n",
       "0                   38.1  1284  10.675979  "
      ]
     },
     "execution_count": 40,
     "metadata": {},
     "output_type": "execute_result"
    }
   ],
   "source": [
    "segment_agg = segment.groupby('cohort').agg({\n",
    "    'recency': 'mean',\n",
    "    'PURCHASE_COUNT': 'mean',\n",
    "    'TOTAL_PURCHASES_EUR': 'mean',\n",
    "    'AVG_PURCHASE_VALUE_EUR': ['mean', 'count']\n",
    "}).round(1).reset_index()\n",
    "\n",
    "segment_agg['%'] = (segment_agg[('AVG_PURCHASE_VALUE_EUR','count')] / segment_agg[('AVG_PURCHASE_VALUE_EUR','count')].sum()) * 100\n",
    "segment_agg.sort_values(by=('PURCHASE_COUNT','mean'))"
   ]
  },
  {
   "cell_type": "code",
   "execution_count": null,
   "id": "a79fa9cf",
   "metadata": {},
   "outputs": [],
   "source": []
  }
 ],
 "metadata": {
  "kernelspec": {
   "display_name": "Python 3 (ipykernel)",
   "language": "python",
   "name": "python3"
  },
  "language_info": {
   "codemirror_mode": {
    "name": "ipython",
    "version": 3
   },
   "file_extension": ".py",
   "mimetype": "text/x-python",
   "name": "python",
   "nbconvert_exporter": "python",
   "pygments_lexer": "ipython3",
   "version": "3.10.8"
  }
 },
 "nbformat": 4,
 "nbformat_minor": 5
}
